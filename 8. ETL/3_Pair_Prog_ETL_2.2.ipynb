{
 "cells": [
  {
   "cell_type": "markdown",
   "metadata": {},
   "source": [
    "# 18/05 - Pair Programming ETL 3 - Guadalupe & Lara"
   ]
  },
  {
   "cell_type": "markdown",
   "metadata": {},
   "source": [
    "**Crear una clase con el código que usamos en los ejercicios de pair programming de ETL Transformación I.**"
   ]
  },
  {
   "cell_type": "code",
   "execution_count": null,
   "metadata": {},
   "outputs": [],
   "source": [
    "import pandas as pd\n",
    "pd.options.display.max_columns = None"
   ]
  },
  {
   "cell_type": "markdown",
   "metadata": {},
   "source": [
    "PSEUDOCÓDIGO:\n",
    "- Extraer datos de 2 csv\n",
    "- Limpiar datos\n",
    "- Juntar dos df\n",
    "- Guardar"
   ]
  },
  {
   "cell_type": "code",
   "execution_count": null,
   "metadata": {},
   "outputs": [],
   "source": [
    "class Tiburoncitos_clima: \n",
    "    \n",
    "    def __init__(self, a, b):\n",
    "        self.lat = lat\n",
    "        self.lon = lon\n",
    "        self.ciudad = ciudad\n",
    "        self.producto = producto\n",
    "    \n",
    "    def crear_df(self, a, b):\n",
    "        #\n",
    "    def columnas_diccionarias(self, col_dicc): \n",
    "\n",
    "        # \n",
    "        return df    \n",
    "    \n",
    "    def juntar_dfs(self, a, b, df_visibilidad): \n",
    "\n",
    "        df_completo = pd.merge(a, b , on =[\"country\"], how = \"inner\")\n",
    "        return df_completo\n",
    "    \n",
    "\n",
    "    def guardar_df (df):\n",
    "\n",
    "        df.to_pickle('datos/datos_Madrid.pkl')\n",
    "        df.to_csv('datos/datos_Madrid.csv')\n",
    "\n",
    "        return df"
   ]
  }
 ],
 "metadata": {
  "language_info": {
   "name": "python"
  },
  "orig_nbformat": 4
 },
 "nbformat": 4,
 "nbformat_minor": 2
}
