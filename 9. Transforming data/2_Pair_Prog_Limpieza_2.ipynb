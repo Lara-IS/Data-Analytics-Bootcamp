{
 "cells": [
  {
   "cell_type": "markdown",
   "metadata": {},
   "source": []
  },
  {
   "cell_type": "markdown",
   "metadata": {},
   "source": [
    "# 04/05 - Pair Programming Limpieza 1 - Guadalupe & Lara"
   ]
  },
  {
   "cell_type": "code",
   "execution_count": 115,
   "metadata": {},
   "outputs": [
    {
     "data": {
      "text/html": [
       "<div>\n",
       "<style scoped>\n",
       "    .dataframe tbody tr th:only-of-type {\n",
       "        vertical-align: middle;\n",
       "    }\n",
       "\n",
       "    .dataframe tbody tr th {\n",
       "        vertical-align: top;\n",
       "    }\n",
       "\n",
       "    .dataframe thead th {\n",
       "        text-align: right;\n",
       "    }\n",
       "</style>\n",
       "<table border=\"1\" class=\"dataframe\">\n",
       "  <thead>\n",
       "    <tr style=\"text-align: right;\">\n",
       "      <th></th>\n",
       "      <th>case_number</th>\n",
       "      <th>year</th>\n",
       "      <th>type</th>\n",
       "      <th>country</th>\n",
       "      <th>area</th>\n",
       "      <th>location</th>\n",
       "      <th>activity</th>\n",
       "      <th>name</th>\n",
       "      <th>sex_</th>\n",
       "      <th>age</th>\n",
       "      <th>time</th>\n",
       "      <th>species_</th>\n",
       "      <th>fatal_(y/n)</th>\n",
       "      <th>injury</th>\n",
       "      <th>date</th>\n",
       "    </tr>\n",
       "  </thead>\n",
       "  <tbody>\n",
       "    <tr>\n",
       "      <th>0</th>\n",
       "      <td>2018.06.25</td>\n",
       "      <td>2018.0</td>\n",
       "      <td>Boating</td>\n",
       "      <td>usa</td>\n",
       "      <td>California</td>\n",
       "      <td>Oceanside, San Diego County</td>\n",
       "      <td>Paddling</td>\n",
       "      <td>Julie Wolfe</td>\n",
       "      <td>F</td>\n",
       "      <td>57</td>\n",
       "      <td>18h00</td>\n",
       "      <td>White shark</td>\n",
       "      <td>N</td>\n",
       "      <td>No injury to occupant, outrigger canoe and pad...</td>\n",
       "      <td>25-Jun-2018</td>\n",
       "    </tr>\n",
       "    <tr>\n",
       "      <th>1</th>\n",
       "      <td>2018.06.18</td>\n",
       "      <td>2018.0</td>\n",
       "      <td>Unprovoked</td>\n",
       "      <td>usa</td>\n",
       "      <td>Georgia</td>\n",
       "      <td>St. Simon Island, Glynn County</td>\n",
       "      <td>Standing</td>\n",
       "      <td>Adyson McNeely</td>\n",
       "      <td>F</td>\n",
       "      <td>11</td>\n",
       "      <td>14h00  -15h00</td>\n",
       "      <td>NaN</td>\n",
       "      <td>N</td>\n",
       "      <td>Minor injury to left thigh</td>\n",
       "      <td>18-Jun-2018</td>\n",
       "    </tr>\n",
       "    <tr>\n",
       "      <th>2</th>\n",
       "      <td>2018.06.09</td>\n",
       "      <td>2018.0</td>\n",
       "      <td>Invalid</td>\n",
       "      <td>usa</td>\n",
       "      <td>Hawaii</td>\n",
       "      <td>Habush, Oahu</td>\n",
       "      <td>Surfing</td>\n",
       "      <td>John Denges</td>\n",
       "      <td>M</td>\n",
       "      <td>48</td>\n",
       "      <td>07h45</td>\n",
       "      <td>NaN</td>\n",
       "      <td>N</td>\n",
       "      <td>Injury to left lower leg from surfboard skeg</td>\n",
       "      <td>09-Jun-2018</td>\n",
       "    </tr>\n",
       "    <tr>\n",
       "      <th>3</th>\n",
       "      <td>2018.06.08</td>\n",
       "      <td>2018.0</td>\n",
       "      <td>Unprovoked</td>\n",
       "      <td>australia</td>\n",
       "      <td>New South Wales</td>\n",
       "      <td>Arrawarra Headland</td>\n",
       "      <td>Surfing</td>\n",
       "      <td>male</td>\n",
       "      <td>M</td>\n",
       "      <td>NaN</td>\n",
       "      <td>NaN</td>\n",
       "      <td>2 m shark</td>\n",
       "      <td>N</td>\n",
       "      <td>Minor injury to lower leg</td>\n",
       "      <td>08-Jun-2018</td>\n",
       "    </tr>\n",
       "    <tr>\n",
       "      <th>4</th>\n",
       "      <td>2018.06.04</td>\n",
       "      <td>2018.0</td>\n",
       "      <td>Provoked</td>\n",
       "      <td>mexico</td>\n",
       "      <td>Colima</td>\n",
       "      <td>La Ticla</td>\n",
       "      <td>Free diving</td>\n",
       "      <td>Gustavo Ramos</td>\n",
       "      <td>M</td>\n",
       "      <td>NaN</td>\n",
       "      <td>NaN</td>\n",
       "      <td>Tiger shark, 3m</td>\n",
       "      <td>N</td>\n",
       "      <td>Lacerations to leg &amp; hand shark PROVOKED INCIDENT</td>\n",
       "      <td>04-Jun-2018</td>\n",
       "    </tr>\n",
       "  </tbody>\n",
       "</table>\n",
       "</div>"
      ],
      "text/plain": [
       "  case_number    year        type    country             area  \\\n",
       "0  2018.06.25  2018.0     Boating        usa       California   \n",
       "1  2018.06.18  2018.0  Unprovoked        usa          Georgia   \n",
       "2  2018.06.09  2018.0     Invalid        usa           Hawaii   \n",
       "3  2018.06.08  2018.0  Unprovoked  australia  New South Wales   \n",
       "4  2018.06.04  2018.0    Provoked     mexico           Colima   \n",
       "\n",
       "                         location     activity             name sex_  age  \\\n",
       "0     Oceanside, San Diego County     Paddling      Julie Wolfe    F   57   \n",
       "1  St. Simon Island, Glynn County     Standing  Adyson McNeely     F   11   \n",
       "2                    Habush, Oahu      Surfing      John Denges    M   48   \n",
       "3              Arrawarra Headland      Surfing             male    M  NaN   \n",
       "4                        La Ticla  Free diving   Gustavo Ramos     M  NaN   \n",
       "\n",
       "            time         species_ fatal_(y/n)  \\\n",
       "0          18h00      White shark           N   \n",
       "1  14h00  -15h00              NaN           N   \n",
       "2          07h45              NaN           N   \n",
       "3            NaN        2 m shark           N   \n",
       "4            NaN  Tiger shark, 3m           N   \n",
       "\n",
       "                                              injury         date  \n",
       "0  No injury to occupant, outrigger canoe and pad...  25-Jun-2018  \n",
       "1                         Minor injury to left thigh  18-Jun-2018  \n",
       "2       Injury to left lower leg from surfboard skeg  09-Jun-2018  \n",
       "3                          Minor injury to lower leg  08-Jun-2018  \n",
       "4  Lacerations to leg & hand shark PROVOKED INCIDENT  04-Jun-2018  "
      ]
     },
     "execution_count": 115,
     "metadata": {},
     "output_type": "execute_result"
    }
   ],
   "source": [
    "import pandas as pd\n",
    "import seaborn as sns\n",
    "import numpy as np\n",
    "import re\n",
    "import matplotlib.pyplot as plt\n",
    "pd.options.display.max_columns = None\n",
    "df = pd.read_csv(\"1.ataques.csv\", index_col = 0)\n",
    "df.head()"
   ]
  },
  {
   "cell_type": "markdown",
   "metadata": {},
   "source": [
    "# EJERCICIOS\n",
    "\n",
    "# 1 Columna de species:\n",
    "\n",
    "Si exploramos esta columna en detalle nos podemos dar cuenta que tenemos muchos valores únicos y esto hace que sea muy difícil trabajar con esta columna. Lo que vamos a hacer es clasificar los tiburones en 5 especies diferentes, las más comunes, que incluyen el tiburón blanco (White), el tiburón tigre (Tiger ), el tiburón gris (Grey), el tiburón limón (Lemon) y el tiburón toro (Bull). \n",
    "El resto de las especies las incluiremos en un único grupo que podremos llamar \"Unspecified\". Ahora nos podemos sentir un poco abrumadas y no saber como enfrentarnos a este reto, pero don't worry, os dejamos por aquí unas 💡 pistas 💡 para que os ayuden a entender cómo hacerlo.\n",
    "Los valores de las columnas son strings por lo que podremos usar regex para buscar palabras clave en cada celda y asignarlo a una de las categorías que hemos definido previamente."
   ]
  },
  {
   "cell_type": "markdown",
   "metadata": {},
   "source": [
    " *imaginemos que el valor de una celda es el siguiente*\n",
    "\n",
    "*'White shark, 3.5 m'*\n",
    "\n",
    "* tendremos que buscar el patrón de regex que nos permita extraer White shark de ese string y que nos devuelva solo White shark. *\n",
    "* Un patrón que podriamos usar es: *\n",
    "\n",
    "*patron_blanco = r\".*[Ww](hite|HITE).*\" # esto podría ser así porque puede estar en mayúsculas o en minúsculas. *\n",
    "\n",
    "* de la misma forma que hemos sacado el patron para el tiburón blanco, tendremos que sacar los patrones para las otras 4 especies que queremos \"encontrar\". *"
   ]
  },
  {
   "cell_type": "markdown",
   "metadata": {},
   "source": [
    "Tendremos que crearnos una función que aplicaremos sobre nuestra columna species_ para que nos devuelva una nueva columna con los valores clasificados en función de los patrones de regex que hayamos definido."
   ]
  },
  {
   "cell_type": "code",
   "execution_count": 116,
   "metadata": {},
   "outputs": [],
   "source": [
    "patron_blanco =r\".*[Ww](hite|HITE).*\"\n",
    "patron_tigre =r\".*[Tt](iger|IGER).*\"\n",
    "patron_gris = r\".*[Gg](rey|REY).*\"\n",
    "patron_limon =r\".*[Ll](emon|EMON).*\"\n",
    "patron_torito = r\".*[Bb](ull|ULL).*\"\n"
   ]
  },
  {
   "cell_type": "code",
   "execution_count": 117,
   "metadata": {},
   "outputs": [],
   "source": [
    "def funcion (columna):\n",
    "    \n",
    "    try:\n",
    "        if re.findall(patron_blanco,columna) :\n",
    "            return \"white_shark\"\n",
    "        elif re.findall(patron_tigre,columna) :\n",
    "            return \"tiger_shark\"\n",
    "        elif re.findall(patron_gris,columna) :\n",
    "            return \"grey_shark\"\n",
    "        elif re.findall(patron_limon,columna) :\n",
    "            return \"lemon_shark\"\n",
    "        elif re.findall(patron_torito,columna) :\n",
    "            return \"bull_shark\"\n",
    "        else:\n",
    "            return \"unspecified\"\n",
    "    except:\n",
    "        return \"unspecified\""
   ]
  },
  {
   "cell_type": "code",
   "execution_count": 118,
   "metadata": {},
   "outputs": [
    {
     "data": {
      "text/html": [
       "<div>\n",
       "<style scoped>\n",
       "    .dataframe tbody tr th:only-of-type {\n",
       "        vertical-align: middle;\n",
       "    }\n",
       "\n",
       "    .dataframe tbody tr th {\n",
       "        vertical-align: top;\n",
       "    }\n",
       "\n",
       "    .dataframe thead th {\n",
       "        text-align: right;\n",
       "    }\n",
       "</style>\n",
       "<table border=\"1\" class=\"dataframe\">\n",
       "  <thead>\n",
       "    <tr style=\"text-align: right;\">\n",
       "      <th></th>\n",
       "      <th>species_</th>\n",
       "      <th>species</th>\n",
       "    </tr>\n",
       "  </thead>\n",
       "  <tbody>\n",
       "    <tr>\n",
       "      <th>0</th>\n",
       "      <td>White shark</td>\n",
       "      <td>white_shark</td>\n",
       "    </tr>\n",
       "    <tr>\n",
       "      <th>1</th>\n",
       "      <td>NaN</td>\n",
       "      <td>unspecified</td>\n",
       "    </tr>\n",
       "    <tr>\n",
       "      <th>2</th>\n",
       "      <td>NaN</td>\n",
       "      <td>unspecified</td>\n",
       "    </tr>\n",
       "    <tr>\n",
       "      <th>3</th>\n",
       "      <td>2 m shark</td>\n",
       "      <td>unspecified</td>\n",
       "    </tr>\n",
       "    <tr>\n",
       "      <th>4</th>\n",
       "      <td>Tiger shark, 3m</td>\n",
       "      <td>tiger_shark</td>\n",
       "    </tr>\n",
       "    <tr>\n",
       "      <th>5</th>\n",
       "      <td>NaN</td>\n",
       "      <td>unspecified</td>\n",
       "    </tr>\n",
       "    <tr>\n",
       "      <th>6</th>\n",
       "      <td>Tiger shark</td>\n",
       "      <td>tiger_shark</td>\n",
       "    </tr>\n",
       "    <tr>\n",
       "      <th>7</th>\n",
       "      <td>Lemon shark, 3'</td>\n",
       "      <td>lemon_shark</td>\n",
       "    </tr>\n",
       "    <tr>\n",
       "      <th>8</th>\n",
       "      <td>Bull shark, 6'</td>\n",
       "      <td>bull_shark</td>\n",
       "    </tr>\n",
       "    <tr>\n",
       "      <th>9</th>\n",
       "      <td>NaN</td>\n",
       "      <td>unspecified</td>\n",
       "    </tr>\n",
       "  </tbody>\n",
       "</table>\n",
       "</div>"
      ],
      "text/plain": [
       "          species_      species\n",
       "0      White shark  white_shark\n",
       "1              NaN  unspecified\n",
       "2              NaN  unspecified\n",
       "3        2 m shark  unspecified\n",
       "4  Tiger shark, 3m  tiger_shark\n",
       "5              NaN  unspecified\n",
       "6      Tiger shark  tiger_shark\n",
       "7  Lemon shark, 3'  lemon_shark\n",
       "8   Bull shark, 6'   bull_shark\n",
       "9              NaN  unspecified"
      ]
     },
     "execution_count": 118,
     "metadata": {},
     "output_type": "execute_result"
    }
   ],
   "source": [
    "df[\"species\"] = df[\"species_\"].apply(funcion)\n",
    "df[[\"species_\", \"species\"]].head(10)"
   ]
  },
  {
   "cell_type": "code",
   "execution_count": 119,
   "metadata": {},
   "outputs": [
    {
     "data": {
      "text/plain": [
       "unspecified    5065\n",
       "white_shark     666\n",
       "tiger_shark     282\n",
       "bull_shark      173\n",
       "grey_shark       65\n",
       "lemon_shark      37\n",
       "Name: species, dtype: int64"
      ]
     },
     "execution_count": 119,
     "metadata": {},
     "output_type": "execute_result"
    }
   ],
   "source": [
    "df[\"species\"].value_counts()"
   ]
  },
  {
   "cell_type": "markdown",
   "metadata": {},
   "source": [
    "# EJERCICIO 2: Columna \"age\""
   ]
  },
  {
   "cell_type": "code",
   "execution_count": 120,
   "metadata": {},
   "outputs": [],
   "source": [
    "patron_age = \"[0-9]{1,2}\" \n",
    "df['age'] = df['age'].astype(str)\n",
    "\n",
    "def limpio(col):\n",
    "    x = re.findall(patron_age, col)\n",
    "    try:\n",
    "        return int(x[0])\n",
    "    except:\n",
    "        np.NaN"
   ]
  },
  {
   "cell_type": "code",
   "execution_count": 121,
   "metadata": {},
   "outputs": [],
   "source": [
    "df[\"age2\"] = df[\"age\"].apply(limpio)"
   ]
  },
  {
   "cell_type": "code",
   "execution_count": 122,
   "metadata": {},
   "outputs": [
    {
     "data": {
      "text/plain": [
       "array([57., 11., 48., nan, 18., 52., 15., 12., 32., 10., 21., 34., 30.,\n",
       "       60., 33., 29., 54., 41., 37., 56., 19., 25., 69., 38., 55., 35.,\n",
       "       46., 45., 14., 40., 28., 20., 24., 26., 49., 22.,  7., 31., 17.,\n",
       "       13., 42.,  3.,  8., 50., 16., 82., 73., 68., 51., 39., 58., 47.,\n",
       "       61., 65., 36., 66., 43.,  9., 72., 59.,  6., 27., 64., 23., 71.,\n",
       "       44., 62., 63., 70., 53., 77., 74.,  5., 86., 84., 75., 87., 67.,\n",
       "        1.,  2., 81., 78.])"
      ]
     },
     "execution_count": 122,
     "metadata": {},
     "output_type": "execute_result"
    }
   ],
   "source": [
    "df[\"age2\"].unique()"
   ]
  },
  {
   "cell_type": "code",
   "execution_count": 123,
   "metadata": {},
   "outputs": [
    {
     "data": {
      "text/plain": [
       "dtype('float64')"
      ]
     },
     "execution_count": 123,
     "metadata": {},
     "output_type": "execute_result"
    }
   ],
   "source": [
    "df['age2'].dtypes"
   ]
  },
  {
   "cell_type": "markdown",
   "metadata": {},
   "source": [
    "*Una vez que hayáis extraido los números, os daréis cuenta que hay celdas que tienen más de una edad. Tendréis que decidir que hacer en esos casos. Os dejamos por aquí una posible opción usando un método de Pandas que os puede resultar super útil. El **método explode**, aqui.*\n",
    "\n",
    "-Por último cambiad el tipo de la columna de string a integer."
   ]
  },
  {
   "cell_type": "code",
   "execution_count": 124,
   "metadata": {},
   "outputs": [
    {
     "data": {
      "text/plain": [
       "case_number     object\n",
       "year           float64\n",
       "type            object\n",
       "country         object\n",
       "area            object\n",
       "location        object\n",
       "activity        object\n",
       "name            object\n",
       "sex_            object\n",
       "age             object\n",
       "time            object\n",
       "species_        object\n",
       "fatal_(y/n)     object\n",
       "injury          object\n",
       "date            object\n",
       "species         object\n",
       "age2             Int64\n",
       "dtype: object"
      ]
     },
     "execution_count": 124,
     "metadata": {},
     "output_type": "execute_result"
    }
   ],
   "source": [
    "df[\"age2\"] = df[\"age2\"].astype(\"Int64\", errors = \"ignore\")\n",
    "df.dtypes"
   ]
  },
  {
   "cell_type": "markdown",
   "metadata": {},
   "source": [
    "# 3\n",
    "Guardad el csv con las columnas limpias para seguir trabajando con este dataframe limpio."
   ]
  },
  {
   "cell_type": "code",
   "execution_count": 125,
   "metadata": {},
   "outputs": [],
   "source": [
    "df.to_csv(\"2.ataques.csv\")"
   ]
  }
 ],
 "metadata": {
  "interpreter": {
   "hash": "0620710c65b0f5ccc651a2aa8870ae0eb4c70492424a8d7866846658189426a3"
  },
  "kernelspec": {
   "display_name": "Python 3.9.7 ('base')",
   "language": "python",
   "name": "python3"
  },
  "language_info": {
   "codemirror_mode": {
    "name": "ipython",
    "version": 3
   },
   "file_extension": ".py",
   "mimetype": "text/x-python",
   "name": "python",
   "nbconvert_exporter": "python",
   "pygments_lexer": "ipython3",
   "version": "3.9.7"
  },
  "orig_nbformat": 4
 },
 "nbformat": 4,
 "nbformat_minor": 2
}
